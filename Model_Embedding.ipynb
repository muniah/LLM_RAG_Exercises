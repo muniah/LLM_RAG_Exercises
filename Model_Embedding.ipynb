{
 "cells": [
  {
   "cell_type": "markdown",
   "id": "f1aee4a0",
   "metadata": {},
   "source": [
    "In this notebook, we explore the way that text with multiple words/tokens is encoded into an embedding vector using the popular sentence_transformers library. We will Check:\n",
    "\n",
    "- OpenAI Embedding\n",
    "- Open source encoder input embeddings\n",
    "- Open source encoder output embedding (with context)\n",
    "- Improved encoder for queries and documents (bi-encoder)"
   ]
  },
  {
   "cell_type": "code",
   "execution_count": 1,
   "id": "4830090e",
   "metadata": {},
   "outputs": [],
   "source": [
    "#Define rich theme for better object printing\n",
    "\n",
    "from rich.console import Console\n",
    "from rich_theme_manager import  Theme, ThemeManager\n",
    "import pathlib\n",
    "theme_dir = pathlib.Path(\"themes\")\n",
    "theme_manager = ThemeManager(theme_dir=theme_dir)\n",
    "dark = theme_manager.get(\"dark\")\n",
    "\n",
    "# Create a console with the dark theme\n",
    "console = Console(theme=dark)\n",
    "\n",
    "import warnings\n",
    "\n",
    "# Suppress warnings\n",
    "warnings.filterwarnings('ignore')"
   ]
  },
  {
   "cell_type": "code",
   "execution_count": 3,
   "id": "d667f7aa",
   "metadata": {},
   "outputs": [
    {
     "data": {
      "text/plain": [
       "False"
      ]
     },
     "execution_count": 3,
     "metadata": {},
     "output_type": "execute_result"
    }
   ],
   "source": [
    "first_sentence = \"I have no interest in politics\"\n",
    "\n",
    "from dotenv import load_dotenv\n",
    "\n",
    "load_dotenv()\n",
    "\n",
    "# from openai import OpenAI\n",
    "# client = OpenAI()\n",
    "\n",
    "# response = client.embeddings.create(\n",
    "#     input=first_sentence,\n",
    "#     model=\"text-embedding-3-small\"\n",
    "# )\n",
    "\n",
    "# console.print(response)"
   ]
  },
  {
   "cell_type": "markdown",
   "id": "1c519f81",
   "metadata": {},
   "source": [
    "We will use the default tokenizer of the model. Every word or subword is converted into a token with a constant ID. For example, in the following two sentences, the word interest is tokenized to the same ID (3037)."
   ]
  },
  {
   "cell_type": "code",
   "execution_count": 4,
   "id": "dbeebc61",
   "metadata": {},
   "outputs": [
    {
     "data": {
      "text/html": [
       "<pre style=\"white-space:pre;overflow-x:auto;line-height:normal;font-family:Menlo,'DejaVu Sans Mono',consolas,'Courier New',monospace\"><span style=\"color: #00ff00; text-decoration-color: #00ff00\">───────────────────────────────────────── </span>I have no interest in politics<span style=\"color: #00ff00; text-decoration-color: #00ff00\"> ──────────────────────────────────────────</span>\n",
       "</pre>\n"
      ],
      "text/plain": [
       "\u001b[92m───────────────────────────────────────── \u001b[0mI have no interest in politics\u001b[92m ──────────────────────────────────────────\u001b[0m\n"
      ]
     },
     "metadata": {},
     "output_type": "display_data"
    },
    {
     "data": {
      "text/html": [
       "<pre style=\"white-space:pre;overflow-x:auto;line-height:normal;font-family:Menlo,'DejaVu Sans Mono',consolas,'Courier New',monospace\"><span style=\"font-weight: bold\">{</span>\n",
       "    <span style=\"color: #00ff00; text-decoration-color: #00ff00\">'input_ids'</span>: <span style=\"color: #ffff00; text-decoration-color: #ffff00\">tensor</span><span style=\"font-weight: bold\">([[</span> <span style=\"color: #ff0000; text-decoration-color: #ff0000\">101</span>, <span style=\"color: #ff0000; text-decoration-color: #ff0000\">1045</span>, <span style=\"color: #ff0000; text-decoration-color: #ff0000\">2031</span>, <span style=\"color: #ff0000; text-decoration-color: #ff0000\">2053</span>, <span style=\"color: #ff0000; text-decoration-color: #ff0000\">3037</span>, <span style=\"color: #ff0000; text-decoration-color: #ff0000\">1999</span>, <span style=\"color: #ff0000; text-decoration-color: #ff0000\">4331</span>,  <span style=\"color: #ff0000; text-decoration-color: #ff0000\">102</span><span style=\"font-weight: bold\">]])</span>,\n",
       "    <span style=\"color: #00ff00; text-decoration-color: #00ff00\">'token_type_ids'</span>: <span style=\"color: #ffff00; text-decoration-color: #ffff00\">tensor</span><span style=\"font-weight: bold\">([[</span><span style=\"color: #ff0000; text-decoration-color: #ff0000\">0</span>, <span style=\"color: #ff0000; text-decoration-color: #ff0000\">0</span>, <span style=\"color: #ff0000; text-decoration-color: #ff0000\">0</span>, <span style=\"color: #ff0000; text-decoration-color: #ff0000\">0</span>, <span style=\"color: #ff0000; text-decoration-color: #ff0000\">0</span>, <span style=\"color: #ff0000; text-decoration-color: #ff0000\">0</span>, <span style=\"color: #ff0000; text-decoration-color: #ff0000\">0</span>, <span style=\"color: #ff0000; text-decoration-color: #ff0000\">0</span><span style=\"font-weight: bold\">]])</span>,\n",
       "    <span style=\"color: #00ff00; text-decoration-color: #00ff00\">'attention_mask'</span>: <span style=\"color: #ffff00; text-decoration-color: #ffff00\">tensor</span><span style=\"font-weight: bold\">([[</span><span style=\"color: #ff0000; text-decoration-color: #ff0000\">1</span>, <span style=\"color: #ff0000; text-decoration-color: #ff0000\">1</span>, <span style=\"color: #ff0000; text-decoration-color: #ff0000\">1</span>, <span style=\"color: #ff0000; text-decoration-color: #ff0000\">1</span>, <span style=\"color: #ff0000; text-decoration-color: #ff0000\">1</span>, <span style=\"color: #ff0000; text-decoration-color: #ff0000\">1</span>, <span style=\"color: #ff0000; text-decoration-color: #ff0000\">1</span>, <span style=\"color: #ff0000; text-decoration-color: #ff0000\">1</span><span style=\"font-weight: bold\">]])</span>\n",
       "<span style=\"font-weight: bold\">}</span>\n",
       "</pre>\n"
      ],
      "text/plain": [
       "\u001b[1m{\u001b[0m\n",
       "    \u001b[92m'input_ids'\u001b[0m: \u001b[93mtensor\u001b[0m\u001b[1m(\u001b[0m\u001b[1m[\u001b[0m\u001b[1m[\u001b[0m \u001b[91m101\u001b[0m, \u001b[91m1045\u001b[0m, \u001b[91m2031\u001b[0m, \u001b[91m2053\u001b[0m, \u001b[91m3037\u001b[0m, \u001b[91m1999\u001b[0m, \u001b[91m4331\u001b[0m,  \u001b[91m102\u001b[0m\u001b[1m]\u001b[0m\u001b[1m]\u001b[0m\u001b[1m)\u001b[0m,\n",
       "    \u001b[92m'token_type_ids'\u001b[0m: \u001b[93mtensor\u001b[0m\u001b[1m(\u001b[0m\u001b[1m[\u001b[0m\u001b[1m[\u001b[0m\u001b[91m0\u001b[0m, \u001b[91m0\u001b[0m, \u001b[91m0\u001b[0m, \u001b[91m0\u001b[0m, \u001b[91m0\u001b[0m, \u001b[91m0\u001b[0m, \u001b[91m0\u001b[0m, \u001b[91m0\u001b[0m\u001b[1m]\u001b[0m\u001b[1m]\u001b[0m\u001b[1m)\u001b[0m,\n",
       "    \u001b[92m'attention_mask'\u001b[0m: \u001b[93mtensor\u001b[0m\u001b[1m(\u001b[0m\u001b[1m[\u001b[0m\u001b[1m[\u001b[0m\u001b[91m1\u001b[0m, \u001b[91m1\u001b[0m, \u001b[91m1\u001b[0m, \u001b[91m1\u001b[0m, \u001b[91m1\u001b[0m, \u001b[91m1\u001b[0m, \u001b[91m1\u001b[0m, \u001b[91m1\u001b[0m\u001b[1m]\u001b[0m\u001b[1m]\u001b[0m\u001b[1m)\u001b[0m\n",
       "\u001b[1m}\u001b[0m\n"
      ]
     },
     "metadata": {},
     "output_type": "display_data"
    }
   ],
   "source": [
    "from sentence_transformers import SentenceTransformer\n",
    "\n",
    "model = SentenceTransformer(\"all-MiniLM-L6-v2\")\n",
    "\n",
    "first_sentence = \"I have no interest in politics\"\n",
    "second_sentence = \"The bank's interest rate rises\"\n",
    "\n",
    "tokenized_first_sentence = model.tokenize([first_sentence])\n",
    "console.rule(f\"{first_sentence}\")\n",
    "console.print(tokenized_first_sentence)"
   ]
  },
  {
   "cell_type": "code",
   "execution_count": null,
   "id": "961acf71",
   "metadata": {},
   "outputs": [
    {
     "data": {
      "text/html": [
       "<pre style=\"white-space:pre;overflow-x:auto;line-height:normal;font-family:Menlo,'DejaVu Sans Mono',consolas,'Courier New',monospace\"><span style=\"color: #00ff00; text-decoration-color: #00ff00\">───────────────────────────────────────── </span>The bank's interest rate rises<span style=\"color: #00ff00; text-decoration-color: #00ff00\"> ──────────────────────────────────────────</span>\n",
       "</pre>\n"
      ],
      "text/plain": [
       "\u001b[92m───────────────────────────────────────── \u001b[0mThe bank's interest rate rises\u001b[92m ──────────────────────────────────────────\u001b[0m\n"
      ]
     },
     "metadata": {},
     "output_type": "display_data"
    },
    {
     "data": {
      "text/html": [
       "<pre style=\"white-space:pre;overflow-x:auto;line-height:normal;font-family:Menlo,'DejaVu Sans Mono',consolas,'Courier New',monospace\"><span style=\"font-weight: bold\">{</span>\n",
       "    <span style=\"color: #00ff00; text-decoration-color: #00ff00\">'input_ids'</span>: <span style=\"color: #ffff00; text-decoration-color: #ffff00\">tensor</span><span style=\"font-weight: bold\">([[</span> <span style=\"color: #ff0000; text-decoration-color: #ff0000\">101</span>, <span style=\"color: #ff0000; text-decoration-color: #ff0000\">1996</span>, <span style=\"color: #ff0000; text-decoration-color: #ff0000\">2924</span>, <span style=\"color: #ff0000; text-decoration-color: #ff0000\">1005</span>, <span style=\"color: #ff0000; text-decoration-color: #ff0000\">1055</span>, <span style=\"color: #ff0000; text-decoration-color: #ff0000\">3037</span>, <span style=\"color: #ff0000; text-decoration-color: #ff0000\">3446</span>, <span style=\"color: #ff0000; text-decoration-color: #ff0000\">9466</span>,  <span style=\"color: #ff0000; text-decoration-color: #ff0000\">102</span><span style=\"font-weight: bold\">]])</span>,\n",
       "    <span style=\"color: #00ff00; text-decoration-color: #00ff00\">'token_type_ids'</span>: <span style=\"color: #ffff00; text-decoration-color: #ffff00\">tensor</span><span style=\"font-weight: bold\">([[</span><span style=\"color: #ff0000; text-decoration-color: #ff0000\">0</span>, <span style=\"color: #ff0000; text-decoration-color: #ff0000\">0</span>, <span style=\"color: #ff0000; text-decoration-color: #ff0000\">0</span>, <span style=\"color: #ff0000; text-decoration-color: #ff0000\">0</span>, <span style=\"color: #ff0000; text-decoration-color: #ff0000\">0</span>, <span style=\"color: #ff0000; text-decoration-color: #ff0000\">0</span>, <span style=\"color: #ff0000; text-decoration-color: #ff0000\">0</span>, <span style=\"color: #ff0000; text-decoration-color: #ff0000\">0</span>, <span style=\"color: #ff0000; text-decoration-color: #ff0000\">0</span><span style=\"font-weight: bold\">]])</span>,\n",
       "    <span style=\"color: #00ff00; text-decoration-color: #00ff00\">'attention_mask'</span>: <span style=\"color: #ffff00; text-decoration-color: #ffff00\">tensor</span><span style=\"font-weight: bold\">([[</span><span style=\"color: #ff0000; text-decoration-color: #ff0000\">1</span>, <span style=\"color: #ff0000; text-decoration-color: #ff0000\">1</span>, <span style=\"color: #ff0000; text-decoration-color: #ff0000\">1</span>, <span style=\"color: #ff0000; text-decoration-color: #ff0000\">1</span>, <span style=\"color: #ff0000; text-decoration-color: #ff0000\">1</span>, <span style=\"color: #ff0000; text-decoration-color: #ff0000\">1</span>, <span style=\"color: #ff0000; text-decoration-color: #ff0000\">1</span>, <span style=\"color: #ff0000; text-decoration-color: #ff0000\">1</span>, <span style=\"color: #ff0000; text-decoration-color: #ff0000\">1</span><span style=\"font-weight: bold\">]])</span>\n",
       "<span style=\"font-weight: bold\">}</span>\n",
       "</pre>\n"
      ],
      "text/plain": [
       "\u001b[1m{\u001b[0m\n",
       "    \u001b[92m'input_ids'\u001b[0m: \u001b[93mtensor\u001b[0m\u001b[1m(\u001b[0m\u001b[1m[\u001b[0m\u001b[1m[\u001b[0m \u001b[91m101\u001b[0m, \u001b[91m1996\u001b[0m, \u001b[91m2924\u001b[0m, \u001b[91m1005\u001b[0m, \u001b[91m1055\u001b[0m, \u001b[91m3037\u001b[0m, \u001b[91m3446\u001b[0m, \u001b[91m9466\u001b[0m,  \u001b[91m102\u001b[0m\u001b[1m]\u001b[0m\u001b[1m]\u001b[0m\u001b[1m)\u001b[0m,\n",
       "    \u001b[92m'token_type_ids'\u001b[0m: \u001b[93mtensor\u001b[0m\u001b[1m(\u001b[0m\u001b[1m[\u001b[0m\u001b[1m[\u001b[0m\u001b[91m0\u001b[0m, \u001b[91m0\u001b[0m, \u001b[91m0\u001b[0m, \u001b[91m0\u001b[0m, \u001b[91m0\u001b[0m, \u001b[91m0\u001b[0m, \u001b[91m0\u001b[0m, \u001b[91m0\u001b[0m, \u001b[91m0\u001b[0m\u001b[1m]\u001b[0m\u001b[1m]\u001b[0m\u001b[1m)\u001b[0m,\n",
       "    \u001b[92m'attention_mask'\u001b[0m: \u001b[93mtensor\u001b[0m\u001b[1m(\u001b[0m\u001b[1m[\u001b[0m\u001b[1m[\u001b[0m\u001b[91m1\u001b[0m, \u001b[91m1\u001b[0m, \u001b[91m1\u001b[0m, \u001b[91m1\u001b[0m, \u001b[91m1\u001b[0m, \u001b[91m1\u001b[0m, \u001b[91m1\u001b[0m, \u001b[91m1\u001b[0m, \u001b[91m1\u001b[0m\u001b[1m]\u001b[0m\u001b[1m]\u001b[0m\u001b[1m)\u001b[0m\n",
       "\u001b[1m}\u001b[0m\n"
      ]
     },
     "metadata": {},
     "output_type": "display_data"
    }
   ],
   "source": [
    "tokenized_second_sentence = model.tokenize([second_sentence])\n",
    "console.rule(f\"{second_sentence}\")\n",
    "console.print(tokenized_second_sentence)"
   ]
  },
  {
   "cell_type": "markdown",
   "id": "09e877e2",
   "metadata": {},
   "source": [
    "The token ID can be used to convert it back into readable text:"
   ]
  },
  {
   "cell_type": "code",
   "execution_count": 6,
   "id": "0de07c43",
   "metadata": {},
   "outputs": [
    {
     "data": {
      "text/html": [
       "<pre style=\"white-space:pre;overflow-x:auto;line-height:normal;font-family:Menlo,'DejaVu Sans Mono',consolas,'Courier New',monospace\"><span style=\"font-weight: bold\">[</span><span style=\"color: #00ff00; text-decoration-color: #00ff00\">'</span><span style=\"color: #00ff00; text-decoration-color: #00ff00; font-weight: bold\">[</span><span style=\"color: #00ff00; text-decoration-color: #00ff00\">CLS</span><span style=\"color: #00ff00; text-decoration-color: #00ff00; font-weight: bold\">]</span><span style=\"color: #00ff00; text-decoration-color: #00ff00\">'</span>, <span style=\"color: #00ff00; text-decoration-color: #00ff00\">'the'</span>, <span style=\"color: #00ff00; text-decoration-color: #00ff00\">'bank'</span>, <span style=\"color: #00ff00; text-decoration-color: #00ff00\">\"'\"</span>, <span style=\"color: #00ff00; text-decoration-color: #00ff00\">'s'</span>, <span style=\"color: #00ff00; text-decoration-color: #00ff00\">'interest'</span>, <span style=\"color: #00ff00; text-decoration-color: #00ff00\">'rate'</span>, <span style=\"color: #00ff00; text-decoration-color: #00ff00\">'rises'</span>, <span style=\"color: #00ff00; text-decoration-color: #00ff00\">'</span><span style=\"color: #00ff00; text-decoration-color: #00ff00; font-weight: bold\">[</span><span style=\"color: #00ff00; text-decoration-color: #00ff00\">SEP</span><span style=\"color: #00ff00; text-decoration-color: #00ff00; font-weight: bold\">]</span><span style=\"color: #00ff00; text-decoration-color: #00ff00\">'</span><span style=\"font-weight: bold\">]</span>\n",
       "</pre>\n"
      ],
      "text/plain": [
       "\u001b[1m[\u001b[0m\u001b[92m'\u001b[0m\u001b[1;92m[\u001b[0m\u001b[92mCLS\u001b[0m\u001b[1;92m]\u001b[0m\u001b[92m'\u001b[0m, \u001b[92m'the'\u001b[0m, \u001b[92m'bank'\u001b[0m, \u001b[92m\"'\"\u001b[0m, \u001b[92m's'\u001b[0m, \u001b[92m'interest'\u001b[0m, \u001b[92m'rate'\u001b[0m, \u001b[92m'rises'\u001b[0m, \u001b[92m'\u001b[0m\u001b[1;92m[\u001b[0m\u001b[92mSEP\u001b[0m\u001b[1;92m]\u001b[0m\u001b[92m'\u001b[0m\u001b[1m]\u001b[0m\n"
      ]
     },
     "metadata": {},
     "output_type": "display_data"
    }
   ],
   "source": [
    "\n",
    "sentence_tokens = model.tokenizer.convert_ids_to_tokens(tokenized_second_sentence[\"input_ids\"][0])\n",
    "\n",
    "console.print(sentence_tokens)\n"
   ]
  },
  {
   "cell_type": "code",
   "execution_count": 7,
   "id": "e01de3c5",
   "metadata": {},
   "outputs": [
    {
     "data": {
      "text/html": [
       "<pre style=\"white-space:pre;overflow-x:auto;line-height:normal;font-family:Menlo,'DejaVu Sans Mono',consolas,'Courier New',monospace\"><span style=\"font-weight: bold\">Vocabulary size</span>: <span style=\"color: #ff0000; text-decoration-color: #ff0000\">30522</span>\n",
       "</pre>\n"
      ],
      "text/plain": [
       "\u001b[1mVocabulary size\u001b[0m: \u001b[91m30522\u001b[0m\n"
      ]
     },
     "metadata": {},
     "output_type": "display_data"
    },
    {
     "data": {
      "text/html": [
       "<pre style=\"white-space:pre;overflow-x:auto;line-height:normal;font-family:Menlo,'DejaVu Sans Mono',consolas,'Courier New',monospace\"><span style=\"font-weight: bold\">{</span>\n",
       "    <span style=\"color: #00ff00; text-decoration-color: #00ff00\">'reads'</span>: <span style=\"color: #ff0000; text-decoration-color: #ff0000\">9631</span>,\n",
       "    <span style=\"color: #00ff00; text-decoration-color: #00ff00\">'1798'</span>: <span style=\"color: #ff0000; text-decoration-color: #ff0000\">13036</span>,\n",
       "    <span style=\"color: #00ff00; text-decoration-color: #00ff00\">'reeling'</span>: <span style=\"color: #ff0000; text-decoration-color: #ff0000\">28515</span>,\n",
       "    <span style=\"color: #00ff00; text-decoration-color: #00ff00\">'sul'</span>: <span style=\"color: #ff0000; text-decoration-color: #ff0000\">21396</span>,\n",
       "    <span style=\"color: #00ff00; text-decoration-color: #00ff00\">'1927'</span>: <span style=\"color: #ff0000; text-decoration-color: #ff0000\">4764</span>,\n",
       "    <span style=\"color: #00ff00; text-decoration-color: #00ff00\">'shattered'</span>: <span style=\"color: #ff0000; text-decoration-color: #ff0000\">10909</span>,\n",
       "    <span style=\"color: #00ff00; text-decoration-color: #00ff00\">'##izing'</span>: <span style=\"color: #ff0000; text-decoration-color: #ff0000\">6026</span>,\n",
       "    <span style=\"color: #00ff00; text-decoration-color: #00ff00\">'aloud'</span>: <span style=\"color: #ff0000; text-decoration-color: #ff0000\">12575</span>,\n",
       "    <span style=\"color: #00ff00; text-decoration-color: #00ff00\">'protesting'</span>: <span style=\"color: #ff0000; text-decoration-color: #ff0000\">21248</span>,\n",
       "    <span style=\"color: #00ff00; text-decoration-color: #00ff00\">'##ァ'</span>: <span style=\"color: #ff0000; text-decoration-color: #ff0000\">30218</span>,\n",
       "    <span style=\"color: #00ff00; text-decoration-color: #00ff00\">'ethan'</span>: <span style=\"color: #ff0000; text-decoration-color: #ff0000\">6066</span>,\n",
       "    <span style=\"color: #00ff00; text-decoration-color: #00ff00\">'whispers'</span>: <span style=\"color: #ff0000; text-decoration-color: #ff0000\">11054</span>,\n",
       "    <span style=\"color: #00ff00; text-decoration-color: #00ff00\">'culture'</span>: <span style=\"color: #ff0000; text-decoration-color: #ff0000\">3226</span>,\n",
       "    <span style=\"color: #00ff00; text-decoration-color: #00ff00\">'</span><span style=\"color: #00ff00; text-decoration-color: #00ff00; font-weight: bold\">[</span><span style=\"color: #00ff00; text-decoration-color: #00ff00\">unused333</span><span style=\"color: #00ff00; text-decoration-color: #00ff00; font-weight: bold\">]</span><span style=\"color: #00ff00; text-decoration-color: #00ff00\">'</span>: <span style=\"color: #ff0000; text-decoration-color: #ff0000\">338</span>,\n",
       "    <span style=\"color: #00ff00; text-decoration-color: #00ff00\">'az'</span>: <span style=\"color: #ff0000; text-decoration-color: #ff0000\">17207</span>,\n",
       "    <span style=\"color: #00ff00; text-decoration-color: #00ff00\">'boredom'</span>: <span style=\"color: #ff0000; text-decoration-color: #ff0000\">29556</span>,\n",
       "    <span style=\"color: #00ff00; text-decoration-color: #00ff00\">'eccentric'</span>: <span style=\"color: #ff0000; text-decoration-color: #ff0000\">18080</span>,\n",
       "    <span style=\"color: #00ff00; text-decoration-color: #00ff00\">'murmurs'</span>: <span style=\"color: #ff0000; text-decoration-color: #ff0000\">22888</span>,\n",
       "    <span style=\"color: #00ff00; text-decoration-color: #00ff00\">'fulton'</span>: <span style=\"color: #ff0000; text-decoration-color: #ff0000\">17049</span>,\n",
       "    <span style=\"color: #00ff00; text-decoration-color: #00ff00\">'</span><span style=\"color: #00ff00; text-decoration-color: #00ff00; font-weight: bold\">[</span><span style=\"color: #00ff00; text-decoration-color: #00ff00\">unused438</span><span style=\"color: #00ff00; text-decoration-color: #00ff00; font-weight: bold\">]</span><span style=\"color: #00ff00; text-decoration-color: #00ff00\">'</span>: <span style=\"color: #ff0000; text-decoration-color: #ff0000\">443</span>\n",
       "<span style=\"font-weight: bold\">}</span>\n",
       "</pre>\n"
      ],
      "text/plain": [
       "\u001b[1m{\u001b[0m\n",
       "    \u001b[92m'reads'\u001b[0m: \u001b[91m9631\u001b[0m,\n",
       "    \u001b[92m'1798'\u001b[0m: \u001b[91m13036\u001b[0m,\n",
       "    \u001b[92m'reeling'\u001b[0m: \u001b[91m28515\u001b[0m,\n",
       "    \u001b[92m'sul'\u001b[0m: \u001b[91m21396\u001b[0m,\n",
       "    \u001b[92m'1927'\u001b[0m: \u001b[91m4764\u001b[0m,\n",
       "    \u001b[92m'shattered'\u001b[0m: \u001b[91m10909\u001b[0m,\n",
       "    \u001b[92m'##izing'\u001b[0m: \u001b[91m6026\u001b[0m,\n",
       "    \u001b[92m'aloud'\u001b[0m: \u001b[91m12575\u001b[0m,\n",
       "    \u001b[92m'protesting'\u001b[0m: \u001b[91m21248\u001b[0m,\n",
       "    \u001b[92m'##ァ'\u001b[0m: \u001b[91m30218\u001b[0m,\n",
       "    \u001b[92m'ethan'\u001b[0m: \u001b[91m6066\u001b[0m,\n",
       "    \u001b[92m'whispers'\u001b[0m: \u001b[91m11054\u001b[0m,\n",
       "    \u001b[92m'culture'\u001b[0m: \u001b[91m3226\u001b[0m,\n",
       "    \u001b[92m'\u001b[0m\u001b[1;92m[\u001b[0m\u001b[92munused333\u001b[0m\u001b[1;92m]\u001b[0m\u001b[92m'\u001b[0m: \u001b[91m338\u001b[0m,\n",
       "    \u001b[92m'az'\u001b[0m: \u001b[91m17207\u001b[0m,\n",
       "    \u001b[92m'boredom'\u001b[0m: \u001b[91m29556\u001b[0m,\n",
       "    \u001b[92m'eccentric'\u001b[0m: \u001b[91m18080\u001b[0m,\n",
       "    \u001b[92m'murmurs'\u001b[0m: \u001b[91m22888\u001b[0m,\n",
       "    \u001b[92m'fulton'\u001b[0m: \u001b[91m17049\u001b[0m,\n",
       "    \u001b[92m'\u001b[0m\u001b[1;92m[\u001b[0m\u001b[92munused438\u001b[0m\u001b[1;92m]\u001b[0m\u001b[92m'\u001b[0m: \u001b[91m443\u001b[0m\n",
       "\u001b[1m}\u001b[0m\n"
      ]
     },
     "metadata": {},
     "output_type": "display_data"
    }
   ],
   "source": [
    "vocabulary = (\n",
    "    model\n",
    "    ._first_module()\n",
    "    .tokenizer\n",
    "    .get_vocab()\n",
    "    .items()\n",
    ")\n",
    "\n",
    "console.print(\"[bold]Vocabulary size[/bold]:\", len(vocabulary))\n",
    "console.print(dict(list(vocabulary)[:20]))"
   ]
  },
  {
   "cell_type": "markdown",
   "id": "a6d24e20",
   "metadata": {},
   "source": [
    "Let's see part of the tokenizer vocabulary. We will search for the token for interest and see its neighbors."
   ]
  },
  {
   "cell_type": "code",
   "execution_count": 8,
   "id": "fc2facb6",
   "metadata": {},
   "outputs": [
    {
     "data": {
      "text/html": [
       "<pre style=\"white-space:pre;overflow-x:auto;line-height:normal;font-family:Menlo,'DejaVu Sans Mono',consolas,'Courier New',monospace\"><span style=\"font-style: italic\">     Tokens around     </span>\n",
       "<span style=\"font-style: italic\">      'interest':      </span>\n",
       "┏━━━━━━┳━━━━━━━━━━━━━━┓\n",
       "┃<span style=\"font-weight: bold\">   id </span>┃<span style=\"font-weight: bold\"> token        </span>┃\n",
       "┡━━━━━━╇━━━━━━━━━━━━━━┩\n",
       "│<span style=\"color: #008080; text-decoration-color: #008080\"> 3027 </span>│<span style=\"color: #00ff00; text-decoration-color: #00ff00\"> ft           </span>│\n",
       "│<span style=\"color: #008080; text-decoration-color: #008080\"> 3028 </span>│<span style=\"color: #00ff00; text-decoration-color: #00ff00\"> valley       </span>│\n",
       "│<span style=\"color: #008080; text-decoration-color: #008080\"> 3029 </span>│<span style=\"color: #00ff00; text-decoration-color: #00ff00\"> organization </span>│\n",
       "│<span style=\"color: #008080; text-decoration-color: #008080\"> 3030 </span>│<span style=\"color: #00ff00; text-decoration-color: #00ff00\"> stopped      </span>│\n",
       "│<span style=\"color: #008080; text-decoration-color: #008080\"> 3031 </span>│<span style=\"color: #00ff00; text-decoration-color: #00ff00\"> onto         </span>│\n",
       "│<span style=\"color: #008080; text-decoration-color: #008080\"> 3032 </span>│<span style=\"color: #00ff00; text-decoration-color: #00ff00\"> countries    </span>│\n",
       "│<span style=\"color: #008080; text-decoration-color: #008080\"> 3033 </span>│<span style=\"color: #00ff00; text-decoration-color: #00ff00\"> parts        </span>│\n",
       "│<span style=\"color: #008080; text-decoration-color: #008080\"> 3034 </span>│<span style=\"color: #00ff00; text-decoration-color: #00ff00\"> conference   </span>│\n",
       "│<span style=\"color: #008080; text-decoration-color: #008080\"> 3035 </span>│<span style=\"color: #00ff00; text-decoration-color: #00ff00\"> queen        </span>│\n",
       "│<span style=\"color: #008080; text-decoration-color: #008080\"> 3036 </span>│<span style=\"color: #00ff00; text-decoration-color: #00ff00\"> security     </span>│\n",
       "│<span style=\"color: #008080; text-decoration-color: #008080\"> </span><span style=\"color: #000000; text-decoration-color: #000000; background-color: #808000; font-weight: bold\">3037</span><span style=\"color: #008080; text-decoration-color: #008080\"> </span>│<span style=\"color: #00ff00; text-decoration-color: #00ff00\"> </span><span style=\"color: #000000; text-decoration-color: #000000; background-color: #808000; font-weight: bold\">interest</span><span style=\"color: #00ff00; text-decoration-color: #00ff00\">     </span>│\n",
       "│<span style=\"color: #008080; text-decoration-color: #008080\"> 3038 </span>│<span style=\"color: #00ff00; text-decoration-color: #00ff00\"> saying       </span>│\n",
       "│<span style=\"color: #008080; text-decoration-color: #008080\"> 3039 </span>│<span style=\"color: #00ff00; text-decoration-color: #00ff00\"> allowed      </span>│\n",
       "│<span style=\"color: #008080; text-decoration-color: #008080\"> 3040 </span>│<span style=\"color: #00ff00; text-decoration-color: #00ff00\"> master       </span>│\n",
       "│<span style=\"color: #008080; text-decoration-color: #008080\"> 3041 </span>│<span style=\"color: #00ff00; text-decoration-color: #00ff00\"> earlier      </span>│\n",
       "│<span style=\"color: #008080; text-decoration-color: #008080\"> 3042 </span>│<span style=\"color: #00ff00; text-decoration-color: #00ff00\"> phone        </span>│\n",
       "│<span style=\"color: #008080; text-decoration-color: #008080\"> 3043 </span>│<span style=\"color: #00ff00; text-decoration-color: #00ff00\"> matter       </span>│\n",
       "│<span style=\"color: #008080; text-decoration-color: #008080\"> 3044 </span>│<span style=\"color: #00ff00; text-decoration-color: #00ff00\"> smith        </span>│\n",
       "│<span style=\"color: #008080; text-decoration-color: #008080\"> 3045 </span>│<span style=\"color: #00ff00; text-decoration-color: #00ff00\"> winning      </span>│\n",
       "│<span style=\"color: #008080; text-decoration-color: #008080\"> 3046 </span>│<span style=\"color: #00ff00; text-decoration-color: #00ff00\"> try          </span>│\n",
       "│<span style=\"color: #008080; text-decoration-color: #008080\"> 3047 </span>│<span style=\"color: #00ff00; text-decoration-color: #00ff00\"> happened     </span>│\n",
       "└──────┴──────────────┘\n",
       "</pre>\n"
      ],
      "text/plain": [
       "\u001b[3m     Tokens around     \u001b[0m\n",
       "\u001b[3m      'interest':      \u001b[0m\n",
       "┏━━━━━━┳━━━━━━━━━━━━━━┓\n",
       "┃\u001b[1m \u001b[0m\u001b[1m  id\u001b[0m\u001b[1m \u001b[0m┃\u001b[1m \u001b[0m\u001b[1mtoken       \u001b[0m\u001b[1m \u001b[0m┃\n",
       "┡━━━━━━╇━━━━━━━━━━━━━━┩\n",
       "│\u001b[36m \u001b[0m\u001b[36m3027\u001b[0m\u001b[36m \u001b[0m│\u001b[92m \u001b[0m\u001b[92mft          \u001b[0m\u001b[92m \u001b[0m│\n",
       "│\u001b[36m \u001b[0m\u001b[36m3028\u001b[0m\u001b[36m \u001b[0m│\u001b[92m \u001b[0m\u001b[92mvalley      \u001b[0m\u001b[92m \u001b[0m│\n",
       "│\u001b[36m \u001b[0m\u001b[36m3029\u001b[0m\u001b[36m \u001b[0m│\u001b[92m \u001b[0m\u001b[92morganization\u001b[0m\u001b[92m \u001b[0m│\n",
       "│\u001b[36m \u001b[0m\u001b[36m3030\u001b[0m\u001b[36m \u001b[0m│\u001b[92m \u001b[0m\u001b[92mstopped     \u001b[0m\u001b[92m \u001b[0m│\n",
       "│\u001b[36m \u001b[0m\u001b[36m3031\u001b[0m\u001b[36m \u001b[0m│\u001b[92m \u001b[0m\u001b[92monto        \u001b[0m\u001b[92m \u001b[0m│\n",
       "│\u001b[36m \u001b[0m\u001b[36m3032\u001b[0m\u001b[36m \u001b[0m│\u001b[92m \u001b[0m\u001b[92mcountries   \u001b[0m\u001b[92m \u001b[0m│\n",
       "│\u001b[36m \u001b[0m\u001b[36m3033\u001b[0m\u001b[36m \u001b[0m│\u001b[92m \u001b[0m\u001b[92mparts       \u001b[0m\u001b[92m \u001b[0m│\n",
       "│\u001b[36m \u001b[0m\u001b[36m3034\u001b[0m\u001b[36m \u001b[0m│\u001b[92m \u001b[0m\u001b[92mconference  \u001b[0m\u001b[92m \u001b[0m│\n",
       "│\u001b[36m \u001b[0m\u001b[36m3035\u001b[0m\u001b[36m \u001b[0m│\u001b[92m \u001b[0m\u001b[92mqueen       \u001b[0m\u001b[92m \u001b[0m│\n",
       "│\u001b[36m \u001b[0m\u001b[36m3036\u001b[0m\u001b[36m \u001b[0m│\u001b[92m \u001b[0m\u001b[92msecurity    \u001b[0m\u001b[92m \u001b[0m│\n",
       "│\u001b[36m \u001b[0m\u001b[1;30;43m3037\u001b[0m\u001b[36m \u001b[0m│\u001b[92m \u001b[0m\u001b[1;30;43minterest\u001b[0m\u001b[92m    \u001b[0m\u001b[92m \u001b[0m│\n",
       "│\u001b[36m \u001b[0m\u001b[36m3038\u001b[0m\u001b[36m \u001b[0m│\u001b[92m \u001b[0m\u001b[92msaying      \u001b[0m\u001b[92m \u001b[0m│\n",
       "│\u001b[36m \u001b[0m\u001b[36m3039\u001b[0m\u001b[36m \u001b[0m│\u001b[92m \u001b[0m\u001b[92mallowed     \u001b[0m\u001b[92m \u001b[0m│\n",
       "│\u001b[36m \u001b[0m\u001b[36m3040\u001b[0m\u001b[36m \u001b[0m│\u001b[92m \u001b[0m\u001b[92mmaster      \u001b[0m\u001b[92m \u001b[0m│\n",
       "│\u001b[36m \u001b[0m\u001b[36m3041\u001b[0m\u001b[36m \u001b[0m│\u001b[92m \u001b[0m\u001b[92mearlier     \u001b[0m\u001b[92m \u001b[0m│\n",
       "│\u001b[36m \u001b[0m\u001b[36m3042\u001b[0m\u001b[36m \u001b[0m│\u001b[92m \u001b[0m\u001b[92mphone       \u001b[0m\u001b[92m \u001b[0m│\n",
       "│\u001b[36m \u001b[0m\u001b[36m3043\u001b[0m\u001b[36m \u001b[0m│\u001b[92m \u001b[0m\u001b[92mmatter      \u001b[0m\u001b[92m \u001b[0m│\n",
       "│\u001b[36m \u001b[0m\u001b[36m3044\u001b[0m\u001b[36m \u001b[0m│\u001b[92m \u001b[0m\u001b[92msmith       \u001b[0m\u001b[92m \u001b[0m│\n",
       "│\u001b[36m \u001b[0m\u001b[36m3045\u001b[0m\u001b[36m \u001b[0m│\u001b[92m \u001b[0m\u001b[92mwinning     \u001b[0m\u001b[92m \u001b[0m│\n",
       "│\u001b[36m \u001b[0m\u001b[36m3046\u001b[0m\u001b[36m \u001b[0m│\u001b[92m \u001b[0m\u001b[92mtry         \u001b[0m\u001b[92m \u001b[0m│\n",
       "│\u001b[36m \u001b[0m\u001b[36m3047\u001b[0m\u001b[36m \u001b[0m│\u001b[92m \u001b[0m\u001b[92mhappened    \u001b[0m\u001b[92m \u001b[0m│\n",
       "└──────┴──────────────┘\n"
      ]
     },
     "metadata": {},
     "output_type": "display_data"
    }
   ],
   "source": [
    "sorted_vocabulary = sorted(vocabulary, key = lambda x: x[1])\n",
    "sorted_tokens = [token for token,_ in sorted_vocabulary]\n",
    "\n",
    "focused_token = \"interest\"\n",
    "# Find the index of the 'interest' token\n",
    "focused_index = sorted_tokens.index(focused_token)\n",
    "# Get 20 tokens around the focused token\n",
    "start_index = max(0, focused_index - 10)\n",
    "end_index = min(len(sorted_tokens), focused_index + 11)\n",
    "tokens_around_focused_index = sorted_tokens[start_index:end_index]\n",
    "\n",
    "from rich.table import Table\n",
    "\n",
    "table = Table(title=f\"Tokens around '{focused_token}':\")\n",
    "table.add_column(\"id\", justify=\"right\", style=\"cyan\", no_wrap=True)\n",
    "table.add_column(\"token\", style=\"bright_green\")\n",
    "\n",
    "for i, token in enumerate(tokens_around_focused_index, start=start_index):\n",
    "    if token == focused_token:\n",
    "        table.add_row(f\"[bold][black on yellow]{i}[/black on yellow][/bold]\", f\"[bold][black on yellow]{token}[/black on yellow][/bold]\")\n",
    "    else:\n",
    "        table.add_row(str(i), token)\n",
    "\n",
    "console.print(table)"
   ]
  },
  {
   "cell_type": "code",
   "execution_count": null,
   "id": "8706b17b",
   "metadata": {},
   "outputs": [],
   "source": []
  }
 ],
 "metadata": {
  "kernelspec": {
   "display_name": "Python 3",
   "language": "python",
   "name": "python3"
  },
  "language_info": {
   "codemirror_mode": {
    "name": "ipython",
    "version": 3
   },
   "file_extension": ".py",
   "mimetype": "text/x-python",
   "name": "python",
   "nbconvert_exporter": "python",
   "pygments_lexer": "ipython3",
   "version": "3.12.0"
  }
 },
 "nbformat": 4,
 "nbformat_minor": 5
}
